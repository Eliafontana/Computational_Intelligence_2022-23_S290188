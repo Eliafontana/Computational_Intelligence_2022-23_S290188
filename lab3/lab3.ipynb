{
 "cells": [
  {
   "cell_type": "code",
   "execution_count": 59,
   "metadata": {},
   "outputs": [],
   "source": [
    "import logging\n",
    "from collections import namedtuple\n",
    "import random\n",
    "from typing import Callable\n",
    "from copy import deepcopy\n",
    "from itertools import accumulate\n",
    "from operator import xor"
   ]
  },
  {
   "cell_type": "code",
   "execution_count": 60,
   "metadata": {},
   "outputs": [],
   "source": [
    "Nimply = namedtuple(\"Nimply\", \"row, num_objects\")\n",
    "random.seed(42)"
   ]
  },
  {
   "cell_type": "code",
   "execution_count": 61,
   "metadata": {},
   "outputs": [],
   "source": [
    "class Nim:\n",
    "    def __init__(self, num_rows: int, k: int = None) -> None:\n",
    "        self._rows = [i * 2 + 1 for i in range(num_rows)]\n",
    "        self._k = k\n",
    "\n",
    "    def __bool__(self):\n",
    "        return sum(self._rows) > 0\n",
    "\n",
    "    def __str__(self):\n",
    "        return \"<\" + \" \".join(str(_) for _ in self._rows) + \">\"\n",
    "\n",
    "    @property\n",
    "    def rows(self) -> tuple:\n",
    "        return tuple(self._rows)\n",
    "\n",
    "    @property\n",
    "    def k(self) -> int:\n",
    "        return self._k\n",
    "\n",
    "    def nimming(self, ply: Nimply) -> None:\n",
    "        row, num_objects = ply\n",
    "        assert self._rows[row] >= num_objects\n",
    "        assert self._k is None or num_objects <= self._k\n",
    "        self._rows[row] -= num_objects"
   ]
  },
  {
   "cell_type": "code",
   "execution_count": 62,
   "metadata": {},
   "outputs": [],
   "source": [
    "def pure_random(state: Nim) -> Nimply:\n",
    "    row = random.choice([r for r, c in enumerate(state.rows) if c > 0])\n",
    "    num_objects = random.randint(1, state.rows[row])\n",
    "    return Nimply(row, num_objects)"
   ]
  },
  {
   "cell_type": "code",
   "execution_count": 63,
   "metadata": {},
   "outputs": [],
   "source": [
    "def gabriele(state: Nim) -> Nimply:\n",
    "    \"\"\"Pick always the maximum possible number of the lowest row\"\"\"\n",
    "    possible_moves = [(r, o) for r, c in enumerate(state.rows) for o in range(1, c + 1)]\n",
    "    return Nimply(*max(possible_moves, key=lambda m: (-m[0], m[1])))"
   ]
  },
  {
   "cell_type": "code",
   "execution_count": 64,
   "metadata": {},
   "outputs": [],
   "source": [
    "def nim_sum(state: Nim) -> int:\n",
    "    *_, result = accumulate(state.rows, xor)\n",
    "    return result\n",
    "\n",
    "\n",
    "def cook_status(state: Nim) -> dict:\n",
    "    cooked = dict()\n",
    "    # cooked[\"possible_moves\"] = [\n",
    "    #     (r, o) for r, c in enumerate(state.rows) for o in range(1, c + 1) if state.k is None or o <= state.k\n",
    "    # ]\n",
    "    cooked[\"active_rows_number\"] = sum(o > 0 for o in state.rows)\n",
    "    cooked[\"shortest_row\"] = min((x for x in enumerate(state.rows) if x[1] > 0), key=lambda y: y[1])[0]\n",
    "    cooked[\"longest_row\"] = max((x for x in enumerate(state.rows)), key=lambda y: y[1])[0]\n",
    "    cooked[\"even_rows\"] = [x[0] for x in enumerate(state.rows) if x[1] % 2 == 0 and x[1] > 0] \n",
    "    cooked[\"odd_rows\"] = [x[0] for x in enumerate(state.rows) if x[1] % 2 != 0]\n",
    "    cooked[\"active_rows\"] = [x[0] for x in enumerate(state.rows) if x[1] > 0]\n",
    "    cooked[\"sum\"] = sum(state.rows)\n",
    "    # cooked[\"nim_sum\"] = nim_sum(state)\n",
    "\n",
    "    # brute_force = list()\n",
    "    # for m in cooked[\"possible_moves\"]:\n",
    "    #     tmp = deepcopy(state)\n",
    "    #     tmp.nimming(m)\n",
    "    #     brute_force.append((m, nim_sum(tmp)))\n",
    "    # cooked[\"brute_force\"] = brute_force\n",
    "\n",
    "    return cooked"
   ]
  },
  {
   "cell_type": "code",
   "execution_count": 65,
   "metadata": {},
   "outputs": [],
   "source": [
    "def optimal_startegy(state: Nim) -> Nimply:\n",
    "    data = cook_status(state)\n",
    "    return next((bf for bf in data[\"brute_force\"] if bf[1] == 0), random.choice(data[\"brute_force\"]))[0]"
   ]
  },
  {
   "cell_type": "code",
   "execution_count": 66,
   "metadata": {},
   "outputs": [],
   "source": [
    "def dumb(state: Nim) -> Nimply:\n",
    "    data = cook_status(state)\n",
    "    i = random.choice(data[\"active_rows\"])\n",
    "    return Nimply(i,1)"
   ]
  },
  {
   "cell_type": "code",
   "execution_count": 67,
   "metadata": {},
   "outputs": [],
   "source": [
    "def make_strategy(genome: dict) -> Callable:\n",
    "    def evolvable(state: Nim) -> Nimply:\n",
    "        data = cook_status(state)\n",
    "\n",
    "        # select the only rows that satisfy a certain thresshold \n",
    "        possible_choices = [i for i in data[\"active_rows\"] if (data[\"sum\"] - state.rows[i])/data[\"sum\"] < genome[\"t\"]]\n",
    "        if len(possible_choices) == 0:\n",
    "            i = random.choice(data[\"active_rows\"])\n",
    "        else:\n",
    "            #i = random.choice(possible_choices)\n",
    "            i = max(possible_choices, key=lambda x:state.rows[x])\n",
    "        ply = Nimply(i, state.rows[i])       \n",
    "        return ply\n",
    "\n",
    "    return evolvable"
   ]
  },
  {
   "cell_type": "code",
   "execution_count": 68,
   "metadata": {},
   "outputs": [],
   "source": [
    "# def make_strategy(genome: dict) -> Callable:\n",
    "#     def evolvable(state: Nim) -> Nimply:\n",
    "#         data = cook_status(state)\n",
    "\n",
    "#         # even odd strategy \n",
    "#         if random.random() < genome[\"e\"]:\n",
    "#             if len(data[\"even_rows\"]) > 0:\n",
    "#                 first = data[\"even_rows\"][0][0]\n",
    "#                 ply = Nimply(first, state.rows[first])\n",
    "#             else:\n",
    "#                 first = data[\"odd_rows\"][0][0]\n",
    "#                 ply = Nimply(first, state.rows[first])\n",
    "#         else :\n",
    "#             if len(data[\"even_rows\"]) > 0:\n",
    "#                 first = data[\"even_rows\"][0][0]\n",
    "#                 ply = Nimply(first, state.rows[first])\n",
    "#             else:\n",
    "#                 first = data[\"odd_rows\"][0][0]\n",
    "#                 ply = Nimply(first, state.rows[first])\n",
    "\n",
    "#         if random.random() < genome[\"p\"]:\n",
    "#             # shortest longest strategy\n",
    "#             # ply = Nimply(data[\"shortest_row\"], random.randint(1, state.rows[data[\"shortest_row\"]]))\n",
    "#             i = random.choice(data[\"active_rows\"])\n",
    "#             ply = Nimply(i, state.rows[i])       \n",
    "#         else:\n",
    "#             # shortest longest strategy\n",
    "#             # ply = Nimply(data[\"longest_row\"], random.randint(1, state.rows[data[\"longest_row\"]])\n",
    "            \n",
    "#             # 1 element strategy\n",
    "#             i = random.choice(data[\"active_rows\"])\n",
    "#             ply = Nimply(i, 1) \n",
    "            \n",
    "#         return ply\n",
    "\n",
    "#     return evolvable"
   ]
  },
  {
   "cell_type": "code",
   "execution_count": 69,
   "metadata": {},
   "outputs": [],
   "source": [
    "NUM_MATCHES = 100\n",
    "NIM_SIZE = 11\n",
    "\n",
    "def evaluate(strategy: Callable, opponent_strategy: Callable = pure_random) -> float:\n",
    "    opponent = (strategy, opponent_strategy)\n",
    "    won = 0\n",
    "    for m in range(NUM_MATCHES):\n",
    "        nim = Nim(NIM_SIZE)\n",
    "        player = 0\n",
    "        while nim:\n",
    "            ply = opponent[player](nim)\n",
    "            nim.nimming(ply)\n",
    "            player = 1 - player\n",
    "        if player == 1:\n",
    "            won += 1\n",
    "    return won / NUM_MATCHES"
   ]
  },
  {
   "cell_type": "code",
   "execution_count": 70,
   "metadata": {},
   "outputs": [],
   "source": [
    "Individual = namedtuple(\"Individual\", [\"genome\", \"fitness\"])\n",
    "\n",
    "def tournament(population, tournament_size=2):\n",
    "    return max(random.sample(population,tournament_size), key=lambda i: i.fitness)\n",
    "\n",
    "\n",
    "\n",
    "def tweak(g):\n",
    "    if random.choice([0,1]) == 1:\n",
    "        # increase value\n",
    "        if g[\"t\"] < 0.95: \n",
    "            g[\"t\"] += 0.05\n",
    "    else:\n",
    "        # decrease value\n",
    "        if g[\"t\"] > 0.05: \n",
    "            g[\"t\"] -= 0.05\n",
    "    return g\n",
    "    "
   ]
  },
  {
   "cell_type": "code",
   "execution_count": 71,
   "metadata": {},
   "outputs": [],
   "source": [
    "NUM_GENERATIONS = 100\n",
    "POPULATION_SIZE = 50\n",
    "OFFSPRING_SIZE = 20\n",
    "TOURNAMENT_SIZE = 2\n",
    "\n",
    "def genetic_algorithm():\n",
    "    # create the initial population\n",
    "    population = list()\n",
    "    for genome in [{\"t\" : random.random()} for _ in range(POPULATION_SIZE)]:\n",
    "        population.append(Individual(genome, evaluate(make_strategy(genome))))\n",
    "        \n",
    "    # evolution\n",
    "    for g in range(NUM_GENERATIONS):\n",
    "        offspring = list()\n",
    "        for _ in range(OFFSPRING_SIZE):\n",
    "            p = tournament(population, tournament_size=TOURNAMENT_SIZE)\n",
    "            o = tweak(p.genome)\n",
    "            f = evaluate(make_strategy(o))\n",
    "            offspring.append(Individual(o, f))\n",
    "        population += offspring\n",
    "        # selection \n",
    "        population = sorted(population, key=lambda i: i.fitness, reverse=True)[:POPULATION_SIZE]\n",
    "        #print(f\"Generation {g}: {population[0].genome} {population[0].fitness}\")\n",
    "\n",
    "    return population"
   ]
  },
  {
   "cell_type": "code",
   "execution_count": 72,
   "metadata": {},
   "outputs": [
    {
     "name": "stdout",
     "output_type": "stream",
     "text": [
      "Found solution {'t': 0.47979197692362746}, 0.85\n"
     ]
    }
   ],
   "source": [
    "population = genetic_algorithm()\n",
    "print(f\"Found solution {population[0].genome}, {population[0].fitness}\")"
   ]
  },
  {
   "cell_type": "code",
   "execution_count": 75,
   "metadata": {},
   "outputs": [
    {
     "name": "stdout",
     "output_type": "stream",
     "text": [
      "{'t': 0.47979197692362746} 0.7\n"
     ]
    }
   ],
   "source": [
    "final_parameter = population[0].genome\n",
    "final_stategy = make_strategy(final_parameter)\n",
    "print(f\"{final_parameter} {evaluate(final_stategy)}\")"
   ]
  },
  {
   "cell_type": "code",
   "execution_count": 76,
   "metadata": {},
   "outputs": [
    {
     "name": "stdout",
     "output_type": "stream",
     "text": [
      "1.0\n"
     ]
    }
   ],
   "source": [
    "print(evaluate(final_stategy,gabriele))"
   ]
  }
 ],
 "metadata": {
  "kernelspec": {
   "display_name": "Python 3.9.7 ('base')",
   "language": "python",
   "name": "python3"
  },
  "language_info": {
   "codemirror_mode": {
    "name": "ipython",
    "version": 3
   },
   "file_extension": ".py",
   "mimetype": "text/x-python",
   "name": "python",
   "nbconvert_exporter": "python",
   "pygments_lexer": "ipython3",
   "version": "3.9.7"
  },
  "orig_nbformat": 4,
  "vscode": {
   "interpreter": {
    "hash": "bfcd79deca59273df3a56003040e16a9612a4bf9306e118cc364ed49ddc4a208"
   }
  }
 },
 "nbformat": 4,
 "nbformat_minor": 2
}
