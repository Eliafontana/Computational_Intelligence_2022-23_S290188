{
 "cells": [
  {
   "cell_type": "markdown",
   "metadata": {},
   "source": [
    "# Lab 2"
   ]
  },
  {
   "cell_type": "code",
   "execution_count": 371,
   "metadata": {},
   "outputs": [],
   "source": [
    "import logging\n",
    "from collections import namedtuple\n",
    "import random\n",
    "from matplotlib import pyplot as plt"
   ]
  },
  {
   "cell_type": "code",
   "execution_count": 372,
   "metadata": {},
   "outputs": [],
   "source": [
    "def problem(N, seed=None):\n",
    "    random.seed(seed)\n",
    "    return [\n",
    "        list(set(random.randint(0, N - 1) for n in range(random.randint(N // 5, N // 2))))\n",
    "        for n in range(random.randint(N, N * 5))\n",
    "    ]"
   ]
  },
  {
   "cell_type": "code",
   "execution_count": 373,
   "metadata": {},
   "outputs": [],
   "source": [
    "PROBLEM_SIZE = 1000\n",
    "POPULATION_SIZE = 200\n",
    "OFFSPRING_SIZE = 150\n",
    "\n",
    "MUTATION_RATE = 0.4\n",
    "# TODO: try to increase TOURNAMENT_SIZE \n",
    "TOURNAMENT_SIZE = 2\n",
    "NUM_GENERATIONS = 1000"
   ]
  },
  {
   "cell_type": "code",
   "execution_count": 374,
   "metadata": {},
   "outputs": [],
   "source": [
    "#logging.getLogger().setLevel(logging.INFO)\n",
    "\n",
    "blocks = problem(PROBLEM_SIZE)\n",
    "goal = [x for x in range(PROBLEM_SIZE)]"
   ]
  },
  {
   "cell_type": "code",
   "execution_count": 375,
   "metadata": {},
   "outputs": [],
   "source": [
    "Individual = namedtuple(\"Individual\", [\"genome\", \"fitness\"])\n",
    "\n",
    "\n",
    "def onemax(genome):\n",
    "    return sum(genome)\n",
    "\n",
    "\n",
    "def tournament(population, tournament_size=2):\n",
    "    return max(random.choices(population, k=tournament_size), key=lambda i: i.fitness)\n",
    "\n",
    "\n",
    "def cross_over(g1, g2):\n",
    "    cut1 = random.randint(0, len(g1))\n",
    "    cut2 = random.randint(0,len(g2))\n",
    "\n",
    "    if random.choice([0,1]) == 1:\n",
    "        return g1[:cut1] + g2[cut2:]\n",
    "    else:\n",
    "        return g2[:cut2] + g1[cut1:]\n",
    "\n",
    "\n",
    "\n",
    "def mutation(g):\n",
    "    point = random.randint(0, len(g))\n",
    "    \n",
    "    if random.choice([0,1]) == 1:\n",
    "        # remove a locus\n",
    "        return g[:point] + g[point + 1 :]\n",
    "    else:\n",
    "        # replace a locus\n",
    "        return g[:point] + (random.choice(blocks),) + g[point + 1 :]\n",
    "    \n",
    "\n",
    "def compute_fitness(genome):\n",
    "    # create a flatten list\n",
    "    tot_elements = [x for sublist in genome for x in sublist]\n",
    "    # transformed then into set in order to check the number of unique elements\n",
    "    covered_list = set(tot_elements)\n",
    "\n",
    "    n_covered =  len(covered_list)\n",
    "    n_repetition = len(tot_elements) - n_covered\n",
    "\n",
    "    # avoid problem given by divison to 0 \n",
    "    # 1 is the highest value obtained by 1/n_repetition so we set the fitness with no repetition to 2\n",
    "    if n_repetition == 0:\n",
    "        return (n_covered, 2)       \n",
    "    else:\n",
    "        return (n_covered, 1/n_repetition)"
   ]
  },
  {
   "cell_type": "markdown",
   "metadata": {},
   "source": [
    "# Genetic Algorithm"
   ]
  },
  {
   "cell_type": "code",
   "execution_count": 376,
   "metadata": {},
   "outputs": [],
   "source": [
    "logging.getLogger().setLevel(logging.INFO)"
   ]
  },
  {
   "cell_type": "markdown",
   "metadata": {},
   "source": [
    "## Initial Population"
   ]
  },
  {
   "cell_type": "code",
   "execution_count": 377,
   "metadata": {},
   "outputs": [],
   "source": [
    "import pprint\n",
    "population = list()\n",
    "\n",
    "for genome in [tuple(random.sample(blocks, random.randint(2,PROBLEM_SIZE))) for _ in range(POPULATION_SIZE)]:\n",
    "    population.append(Individual(genome, compute_fitness(genome)))\n",
    "\n",
    "#logging.info(f\"init: pop_size={len(population)}; max={max(population, key=lambda i: i.fitness)[1]}\")"
   ]
  },
  {
   "cell_type": "markdown",
   "metadata": {},
   "source": [
    "## Evolution"
   ]
  },
  {
   "cell_type": "code",
   "execution_count": 378,
   "metadata": {},
   "outputs": [],
   "source": [
    "for g in range(NUM_GENERATIONS):\n",
    "    offspring = list()\n",
    "    old_population = population.copy()\n",
    "\n",
    "    for i in range(OFFSPRING_SIZE):\n",
    "        if random.random() < MUTATION_RATE:\n",
    "            p = tournament(population, tournament_size=TOURNAMENT_SIZE)\n",
    "            o = mutation(p.genome)\n",
    "        else:\n",
    "            p1 = tournament(population, tournament_size=TOURNAMENT_SIZE)\n",
    "            p2 = tournament(population, tournament_size=TOURNAMENT_SIZE)\n",
    "            o = cross_over(p1.genome, p2.genome)\n",
    "        f = compute_fitness(o)\n",
    "        #fitness_log.append((g + 1, f))\n",
    "        offspring.append(Individual(o, f))\n",
    "    population += offspring\n",
    "    population = sorted(population, key=lambda i: i.fitness, reverse=True)[:POPULATION_SIZE]\n",
    "\n"
   ]
  },
  {
   "cell_type": "code",
   "execution_count": 379,
   "metadata": {},
   "outputs": [
    {
     "name": "stdout",
     "output_type": "stream",
     "text": [
      "Found solution for N=1000: w=3352 (bloat=235%)\n"
     ]
    }
   ],
   "source": [
    "N = PROBLEM_SIZE\n",
    "print(f\"Found solution for N={N}: w={sum(len(_) for _ in population[0].genome)} (bloat={(sum(len(_) for _ in population[0].genome)-N)/N*100:.0f}%)\")"
   ]
  },
  {
   "cell_type": "markdown",
   "metadata": {},
   "source": [
    "## Performance Evaluation"
   ]
  },
  {
   "cell_type": "code",
   "execution_count": 380,
   "metadata": {},
   "outputs": [],
   "source": [
    "# off_line = [max(f[1] for f in fitness_log if f[0] == x) / (x + 1) for x in range(NUM_GENERATIONS)]\n",
    "# on_line = [max(f[1] for f in fitness_log if f[0] <= x) / (x + 1) for x in range(NUM_GENERATIONS)]\n",
    "# gen_best = [max(f[1] for f in fitness_log if f[0] == x) for x in range(NUM_GENERATIONS)]\n",
    "\n",
    "# plt.figure(figsize=(15, 6))\n",
    "# plt.scatter([x for x, _ in fitness_log], [y for _, y in fitness_log], marker=\".\")\n",
    "# plt.plot([x for x, _ in enumerate(gen_best)], [y for _, y in enumerate(gen_best)])\n",
    "# plt.plot([x for x, _ in enumerate(on_line)], [y for _, y in enumerate(on_line)])\n",
    "# plt.plot([x for x, _ in enumerate(off_line)], [y for _, y in enumerate(off_line)])"
   ]
  }
 ],
 "metadata": {
  "kernelspec": {
   "display_name": "Python 3.9.7 ('base')",
   "language": "python",
   "name": "python3"
  },
  "language_info": {
   "codemirror_mode": {
    "name": "ipython",
    "version": 3
   },
   "file_extension": ".py",
   "mimetype": "text/x-python",
   "name": "python",
   "nbconvert_exporter": "python",
   "pygments_lexer": "ipython3",
   "version": "3.9.7"
  },
  "orig_nbformat": 4,
  "vscode": {
   "interpreter": {
    "hash": "bfcd79deca59273df3a56003040e16a9612a4bf9306e118cc364ed49ddc4a208"
   }
  }
 },
 "nbformat": 4,
 "nbformat_minor": 2
}
