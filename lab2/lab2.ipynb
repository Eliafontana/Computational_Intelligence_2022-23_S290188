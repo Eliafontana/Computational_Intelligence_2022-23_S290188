{
 "cells": [
  {
   "cell_type": "markdown",
   "metadata": {},
   "source": [
    "# Lab 2"
   ]
  },
  {
   "cell_type": "code",
   "execution_count": 511,
   "metadata": {},
   "outputs": [],
   "source": [
    "import logging\n",
    "from collections import namedtuple\n",
    "import random"
   ]
  },
  {
   "cell_type": "code",
   "execution_count": 512,
   "metadata": {},
   "outputs": [],
   "source": [
    "def problem(N, seed=None):\n",
    "    random.seed(seed)\n",
    "    return [\n",
    "        list(set(random.randint(0, N - 1) for n in range(random.randint(N // 5, N // 2))))\n",
    "        for n in range(random.randint(N, N * 5))\n",
    "    ]"
   ]
  },
  {
   "cell_type": "markdown",
   "metadata": {},
   "source": [
    "Parameters setting"
   ]
  },
  {
   "cell_type": "code",
   "execution_count": 513,
   "metadata": {},
   "outputs": [],
   "source": [
    "POPULATION_SIZE = 150\n",
    "OFFSPRING_SIZE = 100\n",
    "\n",
    "MUTATION_RATE = 0.4\n",
    "TOURNAMENT_SIZE = 5\n",
    "NUM_GENERATIONS = 500"
   ]
  },
  {
   "cell_type": "code",
   "execution_count": 514,
   "metadata": {},
   "outputs": [],
   "source": [
    "Individual = namedtuple(\"Individual\", [\"genome\", \"fitness\"])\n",
    "\n",
    "def tournament(population, tournament_size=2):\n",
    "    return max(random.sample(population,tournament_size), key=lambda i: i.fitness)\n",
    "\n",
    "\n",
    "\n",
    "def cross_over(g1, g2):\n",
    "    cut1 = random.randint(0, len(g1))\n",
    "    cut2 = random.randint(0,len(g2))\n",
    "\n",
    "    if random.choice([0,1]) == 1:\n",
    "        return g1[:cut1] + g2[cut2:]\n",
    "    else:\n",
    "        return g2[:cut2] + g1[cut1:]\n",
    "\n",
    "\n",
    "\n",
    "def mutation(g, blocks):\n",
    "    point = random.randint(0, len(g))\n",
    "    \n",
    "    if random.choice([0,1]) == 1:\n",
    "        # remove a locus\n",
    "        return g[:point] + g[point + 1 :]\n",
    "    else:\n",
    "        # replace a locus\n",
    "        return g[:point] + (random.choice(blocks),) + g[point + 1 :]\n",
    "    \n",
    "\n",
    "def compute_fitness(genome):\n",
    "    # create a flatten list\n",
    "    tot_elements = [x for sublist in genome for x in sublist]\n",
    "    # transformed then into set in order to check the number of unique elements\n",
    "    covered_list = set(tot_elements)\n",
    "\n",
    "    n_covered =  len(covered_list)\n",
    "    n_repetition = len(tot_elements) - n_covered\n",
    "\n",
    "    # 1 is the highest value obtained by 1/n_repetition so we set the fitness with no repetition to 0.5\n",
    "    # in order to also avoid the problem of divison by 0 \n",
    "    if n_repetition == 0:\n",
    "        return (n_covered, 0.5)       \n",
    "    else:\n",
    "        return (n_covered, 1/n_repetition)"
   ]
  },
  {
   "cell_type": "code",
   "execution_count": 515,
   "metadata": {},
   "outputs": [],
   "source": [
    "logging.getLogger().setLevel(logging.INFO)"
   ]
  },
  {
   "cell_type": "markdown",
   "metadata": {},
   "source": [
    "## Genetic Algorithm"
   ]
  },
  {
   "cell_type": "code",
   "execution_count": 516,
   "metadata": {},
   "outputs": [],
   "source": [
    "def genetic_algorithm(PROBLEM_SIZE):\n",
    "    # generate problem\n",
    "    blocks = problem(PROBLEM_SIZE)\n",
    "    # create the initial population\n",
    "    population = list()\n",
    "    for genome in [tuple(random.sample(blocks, random.randint(2,PROBLEM_SIZE))) for _ in range(POPULATION_SIZE)]:\n",
    "        population.append(Individual(genome, compute_fitness(genome)))\n",
    "\n",
    "    # evolution\n",
    "    for _ in range(NUM_GENERATIONS):\n",
    "        offspring = list()\n",
    "        # offspring creation though mutation or crossover\n",
    "        for _ in range(OFFSPRING_SIZE):\n",
    "            if random.random() < MUTATION_RATE:\n",
    "                p = tournament(population, tournament_size=TOURNAMENT_SIZE)\n",
    "                o = mutation(p.genome, blocks)\n",
    "            else:\n",
    "                p1 = tournament(population, tournament_size=TOURNAMENT_SIZE)\n",
    "                p2 = tournament(population, tournament_size=TOURNAMENT_SIZE)\n",
    "                o = cross_over(p1.genome, p2.genome)\n",
    "            f = compute_fitness(o)\n",
    "            offspring.append(Individual(o, f))\n",
    "        population += offspring\n",
    "        # selection based on fittness\n",
    "        population = sorted(population, key=lambda i: i.fitness, reverse=True)[:POPULATION_SIZE]\n",
    "\n",
    "    return population"
   ]
  },
  {
   "cell_type": "code",
   "execution_count": 517,
   "metadata": {},
   "outputs": [
    {
     "name": "stdout",
     "output_type": "stream",
     "text": [
      "Found solution for N=10: w=11 (bloat=10%)\n",
      "Found solution for N=20: w=24 (bloat=20%)\n",
      "Found solution for N=100: w=184 (bloat=84%)\n",
      "Found solution for N=500: w=1461 (bloat=192%)\n",
      "Found solution for N=1000: w=3440 (bloat=244%)\n"
     ]
    }
   ],
   "source": [
    "for N in [10, 20, 100, 500, 1000]:\n",
    "    population = genetic_algorithm(N)\n",
    "    print(f\"Found solution for N={N}: w={sum(len(_) for _ in population[0].genome)} (bloat={(sum(len(_) for _ in population[0].genome)-N)/N*100:.0f}%)\")"
   ]
  }
 ],
 "metadata": {
  "kernelspec": {
   "display_name": "Python 3.9.7 ('base')",
   "language": "python",
   "name": "python3"
  },
  "language_info": {
   "codemirror_mode": {
    "name": "ipython",
    "version": 3
   },
   "file_extension": ".py",
   "mimetype": "text/x-python",
   "name": "python",
   "nbconvert_exporter": "python",
   "pygments_lexer": "ipython3",
   "version": "3.9.7"
  },
  "orig_nbformat": 4,
  "vscode": {
   "interpreter": {
    "hash": "bfcd79deca59273df3a56003040e16a9612a4bf9306e118cc364ed49ddc4a208"
   }
  }
 },
 "nbformat": 4,
 "nbformat_minor": 2
}
