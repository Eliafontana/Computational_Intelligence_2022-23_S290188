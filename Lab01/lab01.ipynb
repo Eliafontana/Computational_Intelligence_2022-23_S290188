{
 "cells": [
  {
   "cell_type": "code",
   "execution_count": 6,
   "metadata": {},
   "outputs": [],
   "source": [
    "import random\n",
    "\n",
    "def problem(N, seed=None):\n",
    "    random.seed(seed)\n",
    "    return [\n",
    "        list(set(random.randint(0, N - 1) for n in range(random.randint(N // 5, N // 2))))\n",
    "        for n in range(random.randint(N, N * 5))\n",
    "    ]"
   ]
  },
  {
   "cell_type": "code",
   "execution_count": 7,
   "metadata": {},
   "outputs": [],
   "source": [
    "from queue import PriorityQueue\n",
    "\n",
    "def compute_cost(I, Si):\n",
    "    '''\n",
    "        I represents set of current elements included in the solution.  Initially I = {}\n",
    "        Si represents i-th subset taken into consideration in order to be added to the solution\n",
    "        |Si - I| is the number of new elements added by Si\n",
    "        the cost is inversely proportional to the sum between |Si - I| and the number of elements already into I\n",
    "        return -1 if Si do not add any element (|Si - I| = 0), the cost otherwise\n",
    "    '''\n",
    "    # compute how many elements of I are already inside Si \n",
    "    nI = 0\n",
    "    for i in I:\n",
    "        if i in Si:\n",
    "            nI += 1 \n",
    "    # compute how many new elements will be added \n",
    "    n_new_el = abs(len(Si) - nI)\n",
    "\n",
    "    if n_new_el == 0:\n",
    "        return -1\n",
    "    else:\n",
    "        return 1/(n_new_el + len(I))\n",
    "\n",
    "\n",
    "def tree_search(blocks, goal):\n",
    "\n",
    "    frontier = PriorityQueue()\n",
    "    frontier.put((1.0,((), tuple(blocks))))\n",
    "\n",
    "    solution = None\n",
    "\n",
    "    n = 0\n",
    "    while frontier:\n",
    "        n += 1\n",
    "        state = frontier.get()\n",
    "\n",
    "        current_bag, available_blocks = state[1]\n",
    "\n",
    "        # create a flatten list (transformed then into set) from current state in order to check a possible solution\n",
    "        current_sol_set = set([x for sublist in current_bag for x in sublist])\n",
    "\n",
    "        if len(current_sol_set)> 0 and len(current_sol_set)==len(goal):\n",
    "            solution = current_bag\n",
    "            #logging.info(f\"Found a solution in {n:,} steps: {current_bag}\")\n",
    "            break\n",
    "\n",
    "        for i, object in enumerate(available_blocks):\n",
    "\n",
    "            new_state = (\n",
    "                tuple((*current_bag, object)), # insert a new element on the current state\n",
    "                tuple(available_blocks[:i] + available_blocks[i + 1 :]),\n",
    "            )\n",
    "            \n",
    "            # taken into consideration a new state evaluate its cost\n",
    "            current_bag_set = set([x for sublist in current_bag for x in sublist])\n",
    "            new_cost = compute_cost(current_bag_set, object)\n",
    "\n",
    "            if new_cost != -1:\n",
    "                frontier.put((new_cost,new_state))\n",
    "\n",
    "    return solution"
   ]
  },
  {
   "cell_type": "code",
   "execution_count": 14,
   "metadata": {},
   "outputs": [
    {
     "name": "stderr",
     "output_type": "stream",
     "text": [
      "INFO:root:Found solution for N=5: w=6 (bloat=20%)\n",
      "INFO:root:Found solution for N=10: w=13 (bloat=30%)\n",
      "INFO:root:Found solution for N=20: w=29 (bloat=45%)\n",
      "INFO:root:Found solution for N=100: w=188 (bloat=88%)\n",
      "INFO:root:Found solution for N=500: w=1295 (bloat=159%)\n",
      "INFO:root:Found solution for N=1000: w=3088 (bloat=209%)\n"
     ]
    }
   ],
   "source": [
    "import logging\n",
    "\n",
    "logging.getLogger().setLevel(logging.INFO)\n",
    "\n",
    "for N in [5, 10 , 20, 100, 500, 1000]:\n",
    "    blocks = problem(N,seed=42)\n",
    "    goal = [x for x in range(N)]\n",
    "    sol = tree_search(blocks, goal)\n",
    "    logging.info(f\"Found solution for N={N}: w={sum(len(_) for _ in sol)} (bloat={(sum(len(_) for _ in sol)-N)/N*100:.0f}%)\")"
   ]
  }
 ],
 "metadata": {
  "kernelspec": {
   "display_name": "Python 3.9.7 ('base')",
   "language": "python",
   "name": "python3"
  },
  "language_info": {
   "codemirror_mode": {
    "name": "ipython",
    "version": 3
   },
   "file_extension": ".py",
   "mimetype": "text/x-python",
   "name": "python",
   "nbconvert_exporter": "python",
   "pygments_lexer": "ipython3",
   "version": "3.9.7"
  },
  "orig_nbformat": 4,
  "vscode": {
   "interpreter": {
    "hash": "bfcd79deca59273df3a56003040e16a9612a4bf9306e118cc364ed49ddc4a208"
   }
  }
 },
 "nbformat": 4,
 "nbformat_minor": 2
}
