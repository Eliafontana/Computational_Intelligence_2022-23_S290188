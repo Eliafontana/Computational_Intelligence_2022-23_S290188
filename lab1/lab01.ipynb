{
 "cells": [
  {
   "cell_type": "code",
   "execution_count": 1,
   "metadata": {},
   "outputs": [],
   "source": [
    "import random\n",
    "\n",
    "def problem(N, seed=None):\n",
    "    random.seed(seed)\n",
    "    return [\n",
    "        list(set(random.randint(0, N - 1) for n in range(random.randint(N // 5, N // 2))))\n",
    "        for n in range(random.randint(N, N * 5))\n",
    "    ]"
   ]
  },
  {
   "cell_type": "code",
   "execution_count": 2,
   "metadata": {},
   "outputs": [],
   "source": [
    "from queue import PriorityQueue\n",
    "\n",
    "def compute_cost(I, Si):\n",
    "    '''\n",
    "        I represents set of current elements included in the solution.  Initially I = {}\n",
    "        Si represents i-th subset taken into consideration in order to be added to the solution\n",
    "        |Si - I| is the number of new elements added by Si\n",
    "        the first cost is inversely proportional to the sum between |Si - I| and the number of elements already into I,\n",
    "        while the second one represent the number of repetition added by the insertion of Si\n",
    "        return -1 if Si do not add any element (|Si - I| = 0), the cost otherwise\n",
    "    '''\n",
    "    # compute how many elements of I are already inside Si \n",
    "    nI = 0\n",
    "    for i in I:\n",
    "        if i in Si:\n",
    "            nI += 1 \n",
    "    # compute how many new elements will be added \n",
    "    n_new_el = abs(len(Si) - nI)\n",
    "\n",
    "    if n_new_el == 0:\n",
    "        return -1\n",
    "    else:\n",
    "        return (1/(n_new_el + len(I)) , nI)\n",
    "\n",
    "\n",
    "def tree_search(blocks, goal):\n",
    "\n",
    "    frontier = PriorityQueue()\n",
    "    frontier.put((1.0,((), tuple(blocks))))\n",
    "\n",
    "    solution = None\n",
    "\n",
    "    n = 0\n",
    "    while frontier:\n",
    "        n += 1\n",
    "        state = frontier.get()\n",
    "\n",
    "        current_bag, available_blocks = state[1]\n",
    "\n",
    "        # create a flatten list (transformed then into set) from current state in order to check a possible solution\n",
    "        current_sol_set = set([x for sublist in current_bag for x in sublist])\n",
    "\n",
    "        if len(current_sol_set)> 0 and len(current_sol_set)==len(goal):\n",
    "            solution = current_bag\n",
    "            #logging.info(f\"Found a solution in {n:,} steps: {current_bag}\")\n",
    "            break\n",
    "\n",
    "        for i, object in enumerate(available_blocks):\n",
    "\n",
    "            new_state = (\n",
    "                tuple((*current_bag, object)), # insert a new element on the current state\n",
    "                tuple(available_blocks[:i] + available_blocks[i + 1 :]),\n",
    "            )\n",
    "            \n",
    "            # taken into consideration a new state evaluate its cost\n",
    "            current_bag_set = set([x for sublist in current_bag for x in sublist])\n",
    "            new_cost = compute_cost(current_bag_set, object)\n",
    "\n",
    "            if new_cost != -1:\n",
    "                frontier.put((new_cost,new_state))\n",
    "\n",
    "    return solution"
   ]
  },
  {
   "cell_type": "code",
   "execution_count": 7,
   "metadata": {},
   "outputs": [
    {
     "name": "stdout",
     "output_type": "stream",
     "text": [
      "[[8, 4, 7], [0, 1, 2, 3, 6, 13, 17, 18], [0, 6, 16, 17, 19], [0, 5, 7, 8, 13, 14, 17, 18], [2, 3, 4, 6, 8, 10], [1, 3, 8, 11, 14, 19], [2, 3, 9, 11, 12, 17, 18, 19], [1, 2, 9, 7], [3, 5, 6, 7, 8, 11, 12, 14], [2, 5, 7, 8, 12, 14, 17, 19], [17, 10, 1, 7], [2, 6, 8, 10, 12, 15, 18], [4, 7, 8, 14, 17, 18], [4, 7, 11, 12, 15, 16, 18], [1, 3, 4, 5], [2, 8, 12, 13, 14, 16, 17, 19], [0, 3, 5, 8, 9, 10, 13, 14, 17], [8, 16, 5], [16, 9, 19, 6], [0, 5, 11, 16, 17], [0, 1, 3, 7, 9, 10, 11, 15], [18, 2, 15], [4, 5, 8, 13, 15, 16, 17, 19], [6, 9, 11, 12, 17], [2, 3, 7, 10, 14, 16], [17, 18, 7], [0, 1, 2, 7], [16, 10, 2, 7], [4, 6, 15, 17, 18], [3, 6, 7, 13, 15], [1, 3, 13, 14], [3, 6, 7, 10, 14, 17], [5, 7, 8, 13, 14], [0, 1, 2, 3, 5, 7, 14, 17]]\n",
      "solution ([0, 3, 5, 8, 9, 10, 13, 14, 17], [4, 7, 11, 12, 15, 16, 18], [0, 1, 2, 3, 6, 13, 17, 18], [16, 9, 19, 6])\n"
     ]
    }
   ],
   "source": [
    "import logging\n",
    "\n",
    "logging.getLogger().setLevel(logging.INFO)\n",
    "\n",
    "N = 20\n",
    "blocks = problem(N,seed=42)\n",
    "goal = [x for x in range(N)]\n",
    "print(blocks)\n",
    "sol = tree_search(blocks, goal)\n",
    "print(\"solution\", sol)"
   ]
  },
  {
   "cell_type": "code",
   "execution_count": 3,
   "metadata": {},
   "outputs": [
    {
     "name": "stderr",
     "output_type": "stream",
     "text": [
      "INFO:root:Found solution for N=5: w=5 (bloat=0%)\n",
      "INFO:root:Found solution for N=10: w=10 (bloat=0%)\n",
      "INFO:root:Found solution for N=20: w=28 (bloat=40%)\n",
      "INFO:root:Found solution for N=100: w=173 (bloat=73%)\n",
      "INFO:root:Found solution for N=500: w=1320 (bloat=164%)\n",
      "INFO:root:Found solution for N=1000: w=2893 (bloat=189%)\n"
     ]
    }
   ],
   "source": [
    "import logging\n",
    "\n",
    "logging.getLogger().setLevel(logging.INFO)\n",
    "\n",
    "for N in [5, 10 , 20, 100, 500, 1000]:\n",
    "    blocks = problem(N,seed=42)\n",
    "    goal = [x for x in range(N)]\n",
    "    sol = tree_search(blocks, goal)\n",
    "    logging.info(f\"Found solution for N={N}: w={sum(len(_) for _ in sol)} (bloat={(sum(len(_) for _ in sol)-N)/N*100:.0f}%)\")"
   ]
  }
 ],
 "metadata": {
  "kernelspec": {
   "display_name": "Python 3.9.7 ('base')",
   "language": "python",
   "name": "python3"
  },
  "language_info": {
   "codemirror_mode": {
    "name": "ipython",
    "version": 3
   },
   "file_extension": ".py",
   "mimetype": "text/x-python",
   "name": "python",
   "nbconvert_exporter": "python",
   "pygments_lexer": "ipython3",
   "version": "3.9.7"
  },
  "orig_nbformat": 4,
  "vscode": {
   "interpreter": {
    "hash": "bfcd79deca59273df3a56003040e16a9612a4bf9306e118cc364ed49ddc4a208"
   }
  }
 },
 "nbformat": 4,
 "nbformat_minor": 2
}
